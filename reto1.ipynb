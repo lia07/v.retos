{
  "nbformat": 4,
  "nbformat_minor": 0,
  "metadata": {
    "colab": {
      "name": "reto1.ipynb",
      "provenance": [],
      "authorship_tag": "ABX9TyMT8F7EbzfHcz8WrLjQdreQ",
      "include_colab_link": true
    },
    "kernelspec": {
      "name": "python3",
      "display_name": "Python 3"
    }
  },
  "cells": [
    {
      "cell_type": "markdown",
      "metadata": {
        "id": "view-in-github",
        "colab_type": "text"
      },
      "source": [
        "<a href=\"https://colab.research.google.com/github/lia07/v.retos/blob/main/reto1.ipynb\" target=\"_parent\"><img src=\"https://colab.research.google.com/assets/colab-badge.svg\" alt=\"Open In Colab\"/></a>"
      ]
    },
    {
      "cell_type": "markdown",
      "metadata": {
        "id": "g-6IVZZMbxor"
      },
      "source": [
        "if-else"
      ]
    },
    {
      "cell_type": "code",
      "metadata": {
        "id": "mP89qToBbz8X"
      },
      "source": [
        "import math\r\n",
        "import os\r\n",
        "import random\r\n",
        "import re\r\n",
        "import sys\r\n",
        "\r\n",
        "if __name__ == '__main__':\r\n",
        "    n = int(raw_input().strip())\r\n",
        "\r\n",
        "    if n%2!=0:\r\n",
        "        print(\"Weird\")\r\n",
        "    else:\r\n",
        "        if n>=2 and n<=5:\r\n",
        "           print(\"Not Weird\")\r\n",
        "        elif n>=6 and n<=20:\r\n",
        "            print(\"Weird\") \r\n",
        "        elif n>20:\r\n",
        "            print(\"Not Weird \")"
      ],
      "execution_count": null,
      "outputs": []
    }
  ]
}